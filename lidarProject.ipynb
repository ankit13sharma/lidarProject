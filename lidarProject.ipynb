{
  "nbformat": 4,
  "nbformat_minor": 0,
  "metadata": {
    "colab": {
      "name": "lidarProject.ipynb",
      "provenance": [],
      "collapsed_sections": [],
      "machine_shape": "hm"
    },
    "kernelspec": {
      "name": "python3",
      "display_name": "Python 3"
    },
    "language_info": {
      "codemirror_mode": {
        "name": "ipython",
        "version": 3
      },
      "file_extension": ".py",
      "mimetype": "text/x-python",
      "name": "python",
      "nbconvert_exporter": "python",
      "pygments_lexer": "ipython3",
      "version": "3.6.7"
    },
    "accelerator": "TPU"
  },
  "cells": [
    {
      "cell_type": "code",
      "metadata": {
        "id": "uRY6Z2GOm3OB",
        "colab": {
          "base_uri": "https://localhost:8080/"
        },
        "outputId": "0f41c0a3-3ff7-4913-94fe-5de82da86c38"
      },
      "source": [
        "from google.colab import drive\n",
        "drive.mount('/content/drive')"
      ],
      "execution_count": null,
      "outputs": [
        {
          "output_type": "stream",
          "text": [
            "Mounted at /content/drive\n"
          ],
          "name": "stdout"
        }
      ]
    },
    {
      "cell_type": "code",
      "metadata": {
        "id": "aXwSju3BjjL8",
        "colab": {
          "base_uri": "https://localhost:8080/"
        },
        "outputId": "3986b3dc-4fe5-44a2-95ee-4abf6d52c129"
      },
      "source": [
        "!pip install h2o4gpu"
      ],
      "execution_count": null,
      "outputs": [
        {
          "output_type": "stream",
          "text": [
            "Collecting h2o4gpu\n",
            "\u001b[?25l  Downloading https://files.pythonhosted.org/packages/7b/26/a7c66b98828a0d7998e7b340eb6a167c641cbc4ec5e63dbc4e338fe992f8/h2o4gpu-0.4.1-cp36-cp36m-manylinux1_x86_64.whl (346.3MB)\n",
            "\u001b[K     |████████████████████████████████| 346.3MB 14kB/s \n",
            "\u001b[?25hRequirement already satisfied: python-dateutil>=2.7.2 in /usr/local/lib/python3.6/dist-packages (from h2o4gpu) (2.8.1)\n",
            "Collecting psutil>=5.6.3\n",
            "\u001b[?25l  Downloading https://files.pythonhosted.org/packages/da/82/56cd16a4c5f53e3e5dd7b2c30d5c803e124f218ebb644ca9c30bc907eadd/psutil-5.8.0-cp36-cp36m-manylinux2010_x86_64.whl (291kB)\n",
            "\u001b[K     |████████████████████████████████| 296kB 61.2MB/s \n",
            "\u001b[?25hCollecting scikit-learn==0.21.2\n",
            "\u001b[?25l  Downloading https://files.pythonhosted.org/packages/85/04/49633f490f726da6e454fddc8e938bbb5bfed2001681118d3814c219b723/scikit_learn-0.21.2-cp36-cp36m-manylinux1_x86_64.whl (6.7MB)\n",
            "\u001b[K     |████████████████████████████████| 6.7MB 32.8MB/s \n",
            "\u001b[?25hRequirement already satisfied: joblib>=0.14.0 in /usr/local/lib/python3.6/dist-packages (from h2o4gpu) (1.0.0)\n",
            "Requirement already satisfied: tabulate>=0.8.2 in /usr/local/lib/python3.6/dist-packages (from h2o4gpu) (0.8.7)\n",
            "Requirement already satisfied: pandas>=0.24.2 in /usr/local/lib/python3.6/dist-packages (from h2o4gpu) (1.1.5)\n",
            "Requirement already satisfied: future>=0.16.0 in /usr/local/lib/python3.6/dist-packages (from h2o4gpu) (0.16.0)\n",
            "Requirement already satisfied: scipy>=1.3.1 in /usr/local/lib/python3.6/dist-packages (from h2o4gpu) (1.4.1)\n",
            "Requirement already satisfied: pytz>=2018.4 in /usr/local/lib/python3.6/dist-packages (from h2o4gpu) (2018.9)\n",
            "Requirement already satisfied: numpy>=1.16.4 in /usr/local/lib/python3.6/dist-packages (from h2o4gpu) (1.19.5)\n",
            "Requirement already satisfied: six>=1.5 in /usr/local/lib/python3.6/dist-packages (from python-dateutil>=2.7.2->h2o4gpu) (1.15.0)\n",
            "\u001b[31mERROR: umap-learn 0.5.0 has requirement scikit-learn>=0.22, but you'll have scikit-learn 0.21.2 which is incompatible.\u001b[0m\n",
            "Installing collected packages: psutil, scikit-learn, h2o4gpu\n",
            "  Found existing installation: psutil 5.4.8\n",
            "    Uninstalling psutil-5.4.8:\n",
            "      Successfully uninstalled psutil-5.4.8\n",
            "  Found existing installation: scikit-learn 0.22.2.post1\n",
            "    Uninstalling scikit-learn-0.22.2.post1:\n",
            "      Successfully uninstalled scikit-learn-0.22.2.post1\n",
            "Successfully installed h2o4gpu-0.4.1 psutil-5.8.0 scikit-learn-0.21.2\n"
          ],
          "name": "stdout"
        }
      ]
    },
    {
      "cell_type": "code",
      "metadata": {
        "id": "-9z-ruFYkNRq"
      },
      "source": [
        "# import h2o4gpu"
      ],
      "execution_count": null,
      "outputs": []
    },
    {
      "cell_type": "code",
      "metadata": {
        "id": "DlpUzlwb9UUB",
        "colab": {
          "base_uri": "https://localhost:8080/",
          "height": 102
        },
        "outputId": "3f3ea2c2-25ef-4c5e-f710-06d3a2b998dc"
      },
      "source": [
        "# !pip install -U sklearn"
      ],
      "execution_count": null,
      "outputs": [
        {
          "output_type": "stream",
          "text": [
            "Requirement already up-to-date: sklearn in /usr/local/lib/python3.6/dist-packages (0.0)\n",
            "Requirement already satisfied, skipping upgrade: scikit-learn in /usr/local/lib/python3.6/dist-packages (from sklearn) (0.22.2.post1)\n",
            "Requirement already satisfied, skipping upgrade: numpy>=1.11.0 in /usr/local/lib/python3.6/dist-packages (from scikit-learn->sklearn) (1.18.5)\n",
            "Requirement already satisfied, skipping upgrade: joblib>=0.11 in /usr/local/lib/python3.6/dist-packages (from scikit-learn->sklearn) (0.15.1)\n",
            "Requirement already satisfied, skipping upgrade: scipy>=0.17.0 in /usr/local/lib/python3.6/dist-packages (from scikit-learn->sklearn) (1.4.1)\n"
          ],
          "name": "stdout"
        }
      ]
    },
    {
      "cell_type": "code",
      "metadata": {
        "id": "VQ17vzxT9DfJ"
      },
      "source": [
        "import numpy as np\n",
        "import pandas as pd\n",
        "import cv2 as cv\n",
        "# from sklearn.cluster import KMeans as kmeans\n",
        "# from sklearn.cluster import Birch\n",
        "from h2o4gpu.solvers.kmeans import KMeans as kmeans\n",
        "from h2o4gpu.cluster import Birch\n",
        "from matplotlib import pyplot as plt\n",
        "from mpl_toolkits.mplot3d import Axes3D\n",
        "from scipy import stats\n"
      ],
      "execution_count": null,
      "outputs": []
    },
    {
      "cell_type": "code",
      "metadata": {
        "id": "zuPC8xK39nwP"
      },
      "source": [
        "def read_data(path):\n",
        "    #df1 = pd.read_csv(path, usecols = [\"X\", \"Y\", \"Z\"]) \n",
        "    #df1 = pd.read_csv(path) \n",
        "    df1 = pd.read_csv(path, usecols = [0, 1, 2]) \n",
        "    \n",
        "    arr = np.array(df1)\n",
        "    return arr"
      ],
      "execution_count": null,
      "outputs": []
    },
    {
      "cell_type": "code",
      "metadata": {
        "id": "MbuMCF6QwVqk"
      },
      "source": [
        "def apply_kmeans(x,y,z,n_cl,cent):\n",
        "    arr = np.empty((len(x),3))\n",
        "    arr[:,0] = x\n",
        "    arr[:,1] = y\n",
        "    arr[:,2] = z\n",
        "    \n",
        "    kmn = kmeans(n_clusters=n_cl, init = cent, n_init=10, max_iter=300, tol=0.0001, precompute_distances='auto', verbose=0, random_state=36, copy_x=True, n_jobs=None, algorithm='auto').fit(arr[:,:2])\n",
        "    label = kmn.labels_\n",
        "    out = kmn.predict(arr[:,:2])\n",
        "    cent = kmn.cluster_centers_\n",
        "    dist = kmn.transform(arr[:,:2])\n",
        "    agmn = np.argmin(dist, axis = 1)\n",
        "    c_dist = np.empty_like(agmn, dtype = np.float32)\n",
        "    for dst in range(len(agmn)):\n",
        "        c_dist[dst] = dist[dst, agmn[dst]]    \n",
        "    return (label,cent,out,c_dist)\n"
      ],
      "execution_count": null,
      "outputs": []
    },
    {
      "cell_type": "code",
      "metadata": {
        "id": "q5Jz4s19Ujju"
      },
      "source": [
        "def apply_birch(x,y,z,th):\n",
        "    arr = np.empty((len(x),3))\n",
        "    arr[:,0] = x\n",
        "    arr[:,1] = y\n",
        "    arr[:,2] = z\n",
        "    br = arr[:,:2]\n",
        "    brc = Birch(branching_factor=50, n_clusters=None, threshold=th, compute_labels=True)\n",
        "    brc.fit(br)\n",
        "    label = brc.predict(br)\n",
        "    out = brc.labels_\n",
        "    \n",
        "    cent = brc.subcluster_centers_\n",
        "    dist = brc.transform(br)\n",
        "    agmn = np.argmin(dist, axis = 1)\n",
        "    c_dist = np.empty_like(agmn, dtype = np.float32)\n",
        "    for dst in range(len(agmn)):\n",
        "        c_dist[dst] = dist[dst, agmn[dst]]    \n",
        "    return (label,cent,out,c_dist)\n"
      ],
      "execution_count": null,
      "outputs": []
    },
    {
      "cell_type": "code",
      "metadata": {
        "id": "BWgX3dDR7765"
      },
      "source": [
        "def plot_kmeans(X,Y,Z,label,cent):\n",
        "    \n",
        "    for i in list(np.unique(label)):\n",
        "        x = X[label.ravel()==i]\n",
        "        y = Y[label.ravel()==i]\n",
        "        z = Z[label.ravel()==i]\n",
        "        plt.scatter(x,y)\n",
        "    plt.scatter(cent[:,0],cent[:,1],s = 80,c = 'y', marker = 's')\n",
        "    plt.xlabel('X')\n",
        "    plt.ylabel('Y')\n",
        "    \n",
        "    plt.show()"
      ],
      "execution_count": null,
      "outputs": []
    },
    {
      "cell_type": "code",
      "metadata": {
        "id": "yzXhW-ocH9Wi"
      },
      "source": [
        "def adapt_buffer(x1,y1,z1,r1,lbl):\n",
        "    esp = 100\n",
        "    k = 0\n",
        "    l1 = len(r1)\n",
        "    while esp > 0.0001 and k<1000 and len(x1)>100:\n",
        "        r1c1 = np.average(r1)\n",
        "        z1c1 = np.average(z1)\n",
        "        r1 = (r1-r1c1)\n",
        "        l1 = len(r1)\n",
        "        \n",
        "        z1 = (z1[(r1<(min(np.absolute(r1))+max(np.absolute(r1)))/2)]).reshape(-1,1)\n",
        "        x1 = (x1[(r1<(min(np.absolute(r1))+max(np.absolute(r1)))/2)]).reshape(-1,1)\n",
        "        y1 = (y1[(r1<(min(np.absolute(r1))+max(np.absolute(r1)))/2)]).reshape(-1,1)\n",
        "        r1 = (r1[(r1<(min(np.absolute(r1))+max(np.absolute(r1)))/2)]).reshape(-1,1)\n",
        "        \n",
        "        l2 = len(r1)\n",
        "        r1c2 = np.average(r1)\n",
        "        esp = 100*(np.absolute(r1c1 - r1c2))/(np.absolute(r1c1)+1)\n",
        "        #esp = 100*(l1-l2)/(l1)\n",
        "        \n",
        "        k += 1\n",
        "    #print('esp', esp)\n",
        "    \n",
        "    #print('max_iter', k)\n",
        "    f_l1 = (np.ones(len(x1))*lbl).reshape(-1,1)\n",
        "    return()\n",
        "        "
      ],
      "execution_count": null,
      "outputs": []
    },
    {
      "cell_type": "code",
      "metadata": {
        "id": "hJ0mzlvtA1xy"
      },
      "source": [
        "def zr_adjust(x1,y1,z1,r1,it_max):\n",
        "    \n",
        "    esp2 = 100\n",
        "    kl = 0\n",
        "    r2 = r1\n",
        "    while esp2 > 0.0001 and kl <it_max and len(r2)>50:\n",
        "        r2mn = np.min(r2)\n",
        "        r2mx = np.max(r2)\n",
        "        r2m = (r2mn + r2mx)/2\n",
        "        rd = (r2mx -r2mn)/2 \n",
        "        \n",
        "        r2 = r2 - r2m\n",
        "        \n",
        "        z11 = z1[(r2 <= rd/2) & (r2>= -rd/2)]\n",
        "        z12 = z1[(r2 > rd/2) & (r2<= -rd/2)]\n",
        "        fc1 = len(z11)\n",
        "        fc2 = len(z12)\n",
        "        fc = np.absolute(fc1-fc2)\n",
        "        if fc1>fc2:\n",
        "            esp2 = 100*fc/fc1\n",
        "            kl += 1\n",
        "    \n",
        "            ir1 = -rd/2\n",
        "            ir2 = rd/2\n",
        "\n",
        "            \n",
        "        else:\n",
        "            z21 = z1[(r2 >= rd/2) & (r2<= rd)]\n",
        "            z22 = z1[(r2 >= -rd) & (r2<= -rd/2)]\n",
        "            fc1 = len(z21)*np.ptp(z21)\n",
        "            fc2 = len(z22)*np.ptp(z22)\n",
        "            fc = np.absolute(fc1-fc2)\n",
        "            \n",
        "            if fc1>fc2:\n",
        "                esp2 = 100*fc/fc1\n",
        "                kl += 1\n",
        "\n",
        "                ir1 = rd/2\n",
        "                ir2 = rd\n",
        "                \n",
        "            else:\n",
        "                esp2 = 100*fc/fc2\n",
        "                kl += 1\n",
        "\n",
        "                ir1 = -rd\n",
        "                ir2 = -rd/2\n",
        "                                 \n",
        "        \n",
        "        r1 = r1[(r2>=ir1) & (r2<=ir2)]\n",
        "        r1 = r1.reshape(-1,1)\n",
        "        x1 = x1[(r2>=ir1) & (r2<=ir2)]\n",
        "        x1 = x1.reshape(-1,1)\n",
        "        y1 = y1[(r2>=ir1) & (r2<=ir2)]\n",
        "        y1 = y1.reshape(-1,1)\n",
        "        z1 = z1[(r2>=ir1) & (r2<=ir2)]\n",
        "        z1 = z1.reshape(-1,1)\n",
        "        r2 = r2[(r2>=ir1) & (r2<=ir2)]\n",
        "        r2 = r2.reshape(-1,1)\n",
        "\n",
        "    return (x1,y1,z1,r1)\n"
      ],
      "execution_count": null,
      "outputs": []
    },
    {
      "cell_type": "code",
      "metadata": {
        "id": "5bTMyPcGQ7ys"
      },
      "source": [
        "def x_finder(x1,y1,z1,r1,step,itmax):\n",
        "    esp2 = 100\n",
        "    kl = 0\n",
        "    x_2 = x1\n",
        "    while esp2 > 10 and kl<itmax and np.ptp(x_2) > 0.5 and len(x_2)> step:\n",
        "        \n",
        "        x2mn = np.min(x_2)\n",
        "        x2mx = np.max(x_2)\n",
        "        x2m = (x2mn + x2mx)/2\n",
        "        \n",
        "        z11 = z1[(x1 >= x2mn) & (x1 <= x2m)]\n",
        "        z12 = z1[(x1 > x2m) & (x1 <= x2mx)]\n",
        "        fc1 = len(z11)*np.ptp(z11)\n",
        "        fc2 = len(z12)*np.ptp(z12)\n",
        "        fc = np.absolute(fc1-fc2)\n",
        "        if fc1>fc2:\n",
        "            ix1 = x2mn\n",
        "            ix2 = x2m\n",
        "            \n",
        "            x_2 = x_2[(x_2>=ix1) & (x_2<=ix2)]\n",
        "            x_2 = x_2.reshape(-1,1)\n",
        "        \n",
        "            esp2 = 100*fc/fc1\n",
        "            kl += 1\n",
        "    \n",
        "        else:\n",
        "            ix1 = x2m\n",
        "            ix2 = x2mx\n",
        "            x_2 = x_2[(x_2>=ix1) & (x_2<=ix2)]\n",
        "            x_2 = x_2.reshape(-1,1)\n",
        "            esp2 = 100*fc/fc2\n",
        "            kl += 1\n",
        "    \n",
        "    ix1 = np.min(x_2)\n",
        "    ix2 = np.max(x_2)\n",
        "    r1 = r1[(x1>=ix1) & (x1<=ix2)]\n",
        "    y1 = y1[(x1>=ix1) & (x1<=ix2)]\n",
        "    z1 = z1[(x1>=ix1) & (x1<=ix2)]\n",
        "    x1 = x1[(x1>=ix1) & (x1<=ix2)]\n",
        "    \n",
        "\n",
        "    x1 = x1.reshape(-1,1)\n",
        "    y1 = y1.reshape(-1,1)\n",
        "    z1 = z1.reshape(-1,1)\n",
        "    r1 = r1.reshape(-1,1)\n",
        "    return (x1,y1,z1,r1)\n"
      ],
      "execution_count": null,
      "outputs": []
    },
    {
      "cell_type": "code",
      "metadata": {
        "id": "7f-3MVSkO-Br"
      },
      "source": [
        "def plot_3d(X_sub, Y_sub, Z_sub, l_sub):\n",
        "    fig = plt.figure()\n",
        "    ax = fig.gca(projection='3d')\n",
        "    ax.set_xlabel('X')\n",
        "    ax.set_ylabel('Y')\n",
        "    ax.set_zlabel('Elevation')\n",
        "    for lbl in list(np.unique(l_sub)):\n",
        "        ax.scatter(X_sub[l_sub == lbl], Y_sub[l_sub == lbl], Z_sub[l_sub == lbl])\n",
        "\n",
        "    plt.show() "
      ],
      "execution_count": null,
      "outputs": []
    },
    {
      "cell_type": "code",
      "metadata": {
        "id": "kt7dL0d7P866"
      },
      "source": [
        "def plot_2d(X_sub, Y_sub, Z_sub, l_sub):\n",
        "    for lbl in list(np.unique(l_sub)):\n",
        "        plt.scatter(X_sub[l_sub == lbl], Y_sub[l_sub == lbl], Z_sub[l_sub == lbl])"
      ],
      "execution_count": null,
      "outputs": []
    },
    {
      "cell_type": "code",
      "metadata": {
        "id": "7lssTTMhXoJa"
      },
      "source": [
        "def sub_set(X,Y,Z,label,hm,hc):\n",
        "\n",
        "    X_sub =np.empty((1,1))\n",
        "    Y_sub =np.empty((1,1))\n",
        "    Z_sub =np.empty((1,1))\n",
        "    l_sub = np.empty((1,1))\n",
        "\n",
        "\n",
        "    for lbl in list(np.unique(label)):\n",
        "        x1 = (X[label == lbl]).reshape(-1,1)\n",
        "        y1 = (Y[label == lbl]).reshape(-1,1) \n",
        "        z1 = (Z[label == lbl]).reshape(-1,1)\n",
        "        \n",
        "        x1 = (x1[(z1>(min(z1)+hm)) & (z1<min(z1)+hm+min(tree_H[lbl]*hc, 20))]).reshape(-1,1)\n",
        "        y1 = (y1[(z1>(min(z1)+hm)) & (z1<min(z1)+hm+min(tree_H[lbl]*hc, 20))]).reshape(-1,1)\n",
        "        z1 = (z1[(z1>(min(z1)+hm)) & (z1<min(z1)+hm+min(tree_H[lbl]*hc, 20))]).reshape(-1,1)\n",
        "        \n",
        "        X_sub = np.concatenate((X_sub,x1))\n",
        "        Y_sub = np.concatenate((Y_sub,y1))\n",
        "        Z_sub = np.concatenate((Z_sub,z1))\n",
        "        \n",
        "        f_l1 = (np.ones(len(x1))*lbl).reshape(-1,1)\n",
        "        \n",
        "        l_sub = np.concatenate((l_sub,f_l1))\n",
        "    \n",
        "    X_sub = (X_sub).reshape(-1,1)\n",
        "    Y_sub = (Y_sub).reshape(-1,1)\n",
        "    Z_sub = (Z_sub).reshape(-1,1)\n",
        "    l_sub = (l_sub).reshape(-1,1)\n",
        "\n",
        "    X_sub = X_sub[1:,:]\n",
        "    Y_sub = Y_sub[1:,:]\n",
        "    Z_sub = Z_sub[1:,:]\n",
        "    \n",
        "    l_sub = l_sub[1:,:]\n",
        "    \n",
        "    return (X_sub, Y_sub, Z_sub, l_sub)\n"
      ],
      "execution_count": null,
      "outputs": []
    },
    {
      "cell_type": "code",
      "metadata": {
        "id": "u-j9P64x1Az2"
      },
      "source": [
        "def ad_buffer(X_sub, Y_sub, Z_sub, c_dist2, label2,k_max):\n",
        "\n",
        "    X_sub2 =np.empty((1,1))\n",
        "    Y_sub2 =np.empty((1,1))\n",
        "    Z_sub2 =np.empty((1,1))\n",
        "    R_sub2 = np.empty((1,1))\n",
        "    f_sub2 = np.empty((1,1))\n",
        "    fx_sub2 = np.empty((1,1))\n",
        "    l_sub2 = np.empty((1,1))\n",
        "\n",
        "\n",
        "    for lbl in list(np.unique(label2)):\n",
        "        x1 = list(X_sub[label2 == lbl])\n",
        "        y1 = list(Y_sub[label2 == lbl])   \n",
        "        z1 = list(Z_sub[label2 == lbl])\n",
        "        r1 = list(c_dist2[label2 == lbl])\n",
        "        \n",
        "        \n",
        "        \n",
        "        z1 = (np.array(z1)).reshape(-1,1)\n",
        "        r1 = (np.array(r1)).reshape(-1,1)\n",
        "        x1 = (np.array(x1)).reshape(-1,1)\n",
        "        y1 = (np.array(y1)).reshape(-1,1)\n",
        "        \n",
        "        esp = 100\n",
        "        k = 0\n",
        "        l1 = len(r1)\n",
        "        while esp > 0.0001 and k<k_max and len(x1)>100:\n",
        "            r1c1 = np.average(r1)\n",
        "            z1c1 = np.average(z1)\n",
        "            r1 = (r1-r1c1)\n",
        "            l1 = len(r1)\n",
        "            \n",
        "            z1 = (z1[(r1<(min(np.absolute(r1))+max(np.absolute(r1)))/2)]).reshape(-1,1)\n",
        "            x1 = (x1[(r1<(min(np.absolute(r1))+max(np.absolute(r1)))/2)]).reshape(-1,1)\n",
        "            y1 = (y1[(r1<(min(np.absolute(r1))+max(np.absolute(r1)))/2)]).reshape(-1,1)\n",
        "            r1 = (r1[(r1<(min(np.absolute(r1))+max(np.absolute(r1)))/2)]).reshape(-1,1)\n",
        "            \n",
        "            l2 = len(r1)\n",
        "            r1c2 = np.average(r1)\n",
        "            esp = 100*(np.absolute(r1c1 - r1c2))/(np.absolute(r1c1)+1)\n",
        "            #esp = 100*(l1-l2)/(l1)\n",
        "            \n",
        "            k += 1\n",
        "        \n",
        "        X_sub2 = np.concatenate((X_sub2,x1))\n",
        "        Y_sub2 = np.concatenate((Y_sub2,y1))\n",
        "        Z_sub2 = np.concatenate((Z_sub2,z1))\n",
        "        \n",
        "        f_num1 = (np.arange(len(r1))).reshape(-1,1)\n",
        "                \n",
        "        f_x1 = (np.arange(len(r1))).reshape(-1,1)\n",
        "        f_l1 = (np.ones(len(x1))*lbl).reshape(-1,1)\n",
        "        \n",
        "        l_sub2 = np.concatenate((l_sub2,f_l1))\n",
        "        fx_sub2 = np.concatenate((fx_sub2,f_x1))\n",
        "        f_sub2 = np.concatenate((f_sub2,f_num1))\n",
        "        R_sub2 = np.concatenate((R_sub2,r1))\n",
        "\n",
        "        f_x1 = f_x1.reshape(-1,)\n",
        "        f_num1 = f_num1.reshape(-1,)\n",
        "        \n",
        "    \n",
        "    X_sub2 = (X_sub2).reshape(-1,1)\n",
        "    Y_sub2 = (Y_sub2).reshape(-1,1)\n",
        "    Z_sub2 = (Z_sub2).reshape(-1,1)\n",
        "    f_sub2 = (f_sub2).reshape(-1,1)\n",
        "    fx_sub2 = (fx_sub2).reshape(-1,1)\n",
        "    l_sub2 = (l_sub2).reshape(-1,1)\n",
        "    R_sub2 = (R_sub2).reshape(-1,1)\n",
        "\n",
        "\n",
        "    X_sub2 = X_sub2[1:,:]\n",
        "    Y_sub2 = Y_sub2[1:,:]\n",
        "    Z_sub2 = Z_sub2[1:,:]\n",
        "    f_sub2 = f_sub2[1:,:]\n",
        "    fx_sub2 = fx_sub2[1:,:]\n",
        "    l_sub2 = l_sub2[1:,:]\n",
        "    R_sub2 = R_sub2[1:,:]\n",
        "\n",
        "    return (X_sub2, Y_sub2, Z_sub2, R_sub2, l_sub2)\n"
      ],
      "execution_count": null,
      "outputs": []
    },
    {
      "cell_type": "code",
      "metadata": {
        "id": "wb6XoT186cl4"
      },
      "source": [
        "def apply_zr(X_sub2, Y_sub2, Z_sub2, R_sub2, l_sub2,it_max):\n",
        "    X_sub3 =np.empty((1,1))\n",
        "    Y_sub3 =np.empty((1,1))\n",
        "    Z_sub3 =np.empty((1,1))\n",
        "    R_sub3 = np.empty((1,1))\n",
        "    f_sub3 = np.empty((1,1))\n",
        "    fx_sub3 = np.empty((1,1))\n",
        "    l_sub3 = np.empty((1,1))\n",
        "\n",
        "    for lbl in list(np.unique(l_sub2)):\n",
        "        x1 = list(X_sub2[l_sub2 == lbl])\n",
        "        y1= list(Y_sub2[l_sub2 == lbl])   \n",
        "        z1 = list(Z_sub2[l_sub2 == lbl])\n",
        "        r1 = list(R_sub2[l_sub2 == lbl])\n",
        "        z1,r1,x1,y1 = zip(*sorted(zip(z1, r1,x1,y1)))\n",
        "        z1 = (np.array(z1)).reshape(-1,1)\n",
        "        r1 = (np.array(r1)).reshape(-1,1)\n",
        "        x1 = (np.array(x1)).reshape(-1,1)\n",
        "        y1 = (np.array(y1)).reshape(-1,1)\n",
        "        \n",
        "        if len(r1)>10:\n",
        "            x1,y1,z1,r1 = zr_adjust(x1,y1,z1,r1,it_max)        \n",
        "        \n",
        "        X_sub3 = np.concatenate((X_sub3,x1))\n",
        "        Y_sub3 = np.concatenate((Y_sub3,y1))\n",
        "        Z_sub3 = np.concatenate((Z_sub3,z1))\n",
        "        \n",
        "        f_num1 = (np.arange(len(r1))).reshape(-1,1)\n",
        "                \n",
        "        f_x1 = (np.arange(len(r1))).reshape(-1,1)\n",
        "        f_l1 = (np.ones(len(x1))*lbl).reshape(-1,1)\n",
        "        \n",
        "\n",
        "        \n",
        "        l_sub3 = np.concatenate((l_sub3,f_l1))\n",
        "        fx_sub3 = np.concatenate((fx_sub3,f_x1))\n",
        "        f_sub3 = np.concatenate((f_sub3,f_num1))\n",
        "        R_sub3 = np.concatenate((R_sub3,r1))\n",
        "        \n",
        "        \n",
        "        f_x1 = f_x1.reshape(-1,)\n",
        "        f_num1 = f_num1.reshape(-1,)\n",
        "        \n",
        "    \n",
        "    X_sub3 = (X_sub3).reshape(-1,1)\n",
        "    Y_sub3 = (Y_sub3).reshape(-1,1)\n",
        "    Z_sub3 = (Z_sub3).reshape(-1,1)\n",
        "    f_sub3 = (f_sub3).reshape(-1,1)\n",
        "    fx_sub3 = (fx_sub3).reshape(-1,1)\n",
        "    l_sub3 = (l_sub3).reshape(-1,1)\n",
        "    R_sub3 = (R_sub3).reshape(-1,1)\n",
        "\n",
        "\n",
        "    X_sub3 = X_sub3[1:,:]\n",
        "    Y_sub3 = Y_sub3[1:,:]\n",
        "    Z_sub3 = Z_sub3[1:,:]\n",
        "    f_sub3 = f_sub3[1:,:]\n",
        "    fx_sub3 = fx_sub3[1:,:]\n",
        "    l_sub3 = l_sub3[1:,:]\n",
        "    R_sub3 = R_sub3[1:,:]\n",
        "\n",
        "    return(X_sub3, Y_sub3, Z_sub3, R_sub3, l_sub3)"
      ],
      "execution_count": null,
      "outputs": []
    },
    {
      "cell_type": "code",
      "metadata": {
        "id": "G3J4SSTXCqer"
      },
      "source": [
        "def apply_finder(X_sub3, Y_sub3, Z_sub3, R_sub3, l_sub3,itmax):\n",
        "    X_sub4 =np.empty((1,1))\n",
        "    Y_sub4 =np.empty((1,1))\n",
        "    Z_sub4 =np.empty((1,1))\n",
        "    R_sub4 = np.empty((1,1))\n",
        "    l_sub4 = np.empty((1,1))\n",
        "\n",
        "    for lbl in list(np.unique(l_sub3)):\n",
        "        x1 = list(X_sub3[l_sub3 == lbl])\n",
        "        y1= list(Y_sub3[l_sub3 == lbl])   \n",
        "        z1 = list(Z_sub3[l_sub3 == lbl])\n",
        "        r1 = list(R_sub3[l_sub3 == lbl])\n",
        "        z1,r1,x1,y1 = zip(*sorted(zip(z1, r1,x1,y1)))\n",
        "        z1 = (np.array(z1)).reshape(-1,1)\n",
        "        r1 = (np.array(r1)).reshape(-1,1)\n",
        "        x1 = (np.array(x1)).reshape(-1,1)\n",
        "        y1 = (np.array(y1)).reshape(-1,1)\n",
        "        \n",
        "        if len(r1)>10:\n",
        "            x1,y1,z1,r1 = x_finder(x1,y1,z1,r1,25,itmax)        \n",
        "        if len(r1)>10:\n",
        "            y1,x1,z1,r1 = x_finder(y1,x1,z1,r1,10,itmax)        \n",
        "        \n",
        "        X_sub4 = np.concatenate((X_sub4,x1))\n",
        "        Y_sub4 = np.concatenate((Y_sub4,y1))\n",
        "        Z_sub4 = np.concatenate((Z_sub4,z1))\n",
        "        \n",
        "        f_l1 = (np.ones(len(x1))*lbl).reshape(-1,1)\n",
        "        \n",
        "\n",
        "        l_sub4 = np.concatenate((l_sub4,f_l1))\n",
        "        R_sub4 = np.concatenate((R_sub4,r1))\n",
        "\n",
        "    \n",
        "    X_sub4 = (X_sub4).reshape(-1,1)\n",
        "    Y_sub4 = (Y_sub4).reshape(-1,1)\n",
        "    Z_sub4 = (Z_sub4).reshape(-1,1)\n",
        "    l_sub4 = (l_sub4).reshape(-1,1)\n",
        "    R_sub4 = (R_sub4).reshape(-1,1)\n",
        "\n",
        "\n",
        "    X_sub4 = X_sub4[1:,:]\n",
        "    Y_sub4 = Y_sub4[1:,:]\n",
        "    Z_sub4 = Z_sub4[1:,:]\n",
        "    l_sub4 = l_sub4[1:,:]\n",
        "    R_sub4 = R_sub4[1:,:]\n",
        "\n",
        "    return (X_sub4, Y_sub4, Z_sub4, R_sub4, l_sub4)"
      ],
      "execution_count": null,
      "outputs": []
    },
    {
      "cell_type": "code",
      "metadata": {
        "id": "RCaKDy_z9YXF"
      },
      "source": [
        "def width_finder(px, py, pz,pl):\n",
        "    \n",
        "    w = []\n",
        "    for lbl in list(np.unique(pl)):\n",
        "        x1,y1,z1 = px[pl == lbl], py[pl == lbl], pz[pl == lbl]\n",
        "        \n",
        "        if len(x1)<=1:\n",
        "            #print('not enough points')\n",
        "            w1 = 0\n",
        "            #continue\n",
        "        else:\n",
        "            w1 = max(np.ptp(x1),np.ptp(y1))\n",
        "            #print('width:', w1)\n",
        "        w.append(w1)\n",
        "    w = (np.array(w)).reshape(-1,1)\n",
        "    dbh = np.median(w)\n",
        "    #print('Median DBH:', dbh)\n",
        "    return w,dbh\n",
        "\n",
        "\n",
        "        "
      ],
      "execution_count": null,
      "outputs": []
    },
    {
      "cell_type": "code",
      "metadata": {
        "id": "ki-KPy-G-CtD"
      },
      "source": [
        "# path = '/content/drive/My Drive/Excel/raw_data.csv'\n",
        "path = '/content/drive/My Drive/Excel/lidar/test_data/grid1_subset_subset_input.csv'\n",
        "# path = '/content/drive/My Drive/Excel/lidar/test_data/test_data3_xyz.csv'\n",
        "###path = './raw_data.csv'\n",
        "arr1 = read_data(path)\n",
        "\n",
        "# QC check. removing outliers\n",
        "\n",
        "dataset = pd.DataFrame(arr1)\n",
        "# del arr1\n",
        "# dataset1 = dataset[(stats.zscore(dataset.iloc[:,3:4]) < 1.96).all(axis=1)]\n",
        "# dataset = dataset[(np.abs(stats.zscore(dataset.iloc[:,:])) < 2.96).all(axis=1)]\n",
        "# arr1 = np.array(dataset)\n",
        "# del dataset\n",
        "\n",
        "X = arr1[:,0] \n",
        "Y = arr1[:,1] \n",
        "Z = arr1[:,2] \n",
        "    \n",
        "xmax, xmin = np.max(X), np.min(X)\n",
        "ymax, ymin = np.max(Y), np.min(Y)\n",
        "xm = (xmax + xmin)/2\n",
        "ym = (ymax + ymin)/2\n",
        "X1 = X[(X<=xm) & (X>=xmin) & (Y<=ym) & (Y>=ymin)]\n",
        "Y1 = Y[(X<=xm) & (X>=xmin) & (Y<=ym) & (Y>=ymin)]\n",
        "Z1 = Z[(X<=xm) & (X>=xmin) & (Y<=ym) & (Y>=ymin)]\n",
        "\n",
        "X2 = X[(X<=xmax) & (X>=xm) & (Y<=ym) & (Y>=ymin)]\n",
        "Y2 = Y[(X<=xmax) & (X>=xm) & (Y<=ym) & (Y>=ymin)]\n",
        "Z2 = Z[(X<=xmax) & (X>=xm) & (Y<=ym) & (Y>=ymin)]\n",
        "\n",
        "X3 = X[(X<=xm) & (X>=xmin) & (Y<=ymax) & (Y>=ym)]\n",
        "Y3 = Y[(X<=xm) & (X>=xmin) & (Y<=ymax) & (Y>=ym)]\n",
        "Z3 = Z[(X<=xm) & (X>=xmin) & (Y<=ymax) & (Y>=ym)]\n",
        "\n",
        "X4 = X[(X<=xmax) & (X>=xm) & (Y<=ymax) & (Y>=ym)]\n",
        "Y4 = Y[(X<=xmax) & (X>=xm) & (Y<=ymax) & (Y>=ym)]\n",
        "Z4 = Z[(X<=xmax) & (X>=xm) & (Y<=ymax) & (Y>=ym)]\n",
        "\n"
      ],
      "execution_count": null,
      "outputs": []
    },
    {
      "cell_type": "code",
      "metadata": {
        "colab": {
          "base_uri": "https://localhost:8080/",
          "height": 293
        },
        "id": "5kFIu_yIi8wz",
        "outputId": "d4379e54-311e-4706-aa5a-afe3bd067e2a"
      },
      "source": [
        "plot_kmeans()"
      ],
      "execution_count": null,
      "outputs": [
        {
          "output_type": "execute_result",
          "data": {
            "text/plain": [
              "<matplotlib.axes._subplots.AxesSubplot at 0x7fb223219940>"
            ]
          },
          "metadata": {
            "tags": []
          },
          "execution_count": 21
        },
        {
          "output_type": "display_data",
          "data": {
            "image/png": "[encoded data removed]",
            "text/plain": [
              "<Figure size 432x288 with 1 Axes>"
            ]
          },
          "metadata": {
            "tags": [],
            "needs_background": "light"
          }
        }
      ]
    },
    {
      "cell_type": "code",
      "metadata": {
        "id": "p92KX21X_clF",
        "colab": {
          "base_uri": "https://localhost:8080/",
          "height": 34
        },
        "outputId": "da8b0c2d-7f4f-44c1-99f3-1f7481111938"
      },
      "source": [
        "print((xmax-xmin),(ymax-ymin))"
      ],
      "execution_count": null,
      "outputs": [
        {
          "output_type": "stream",
          "text": [
            "285.96999999997206 236.90000000037253\n"
          ],
          "name": "stdout"
        }
      ]
    },
    {
      "cell_type": "code",
      "metadata": {
        "id": "ypq0wlKE-n3Z",
        "colab": {
          "base_uri": "https://localhost:8080/",
          "height": 34
        },
        "outputId": "4e46ba8c-64ea-4663-8940-69519faf1fca"
      },
      "source": [
        "print(np.max(Z) - np.min(Z))"
      ],
      "execution_count": null,
      "outputs": [
        {
          "output_type": "stream",
          "text": [
            "59.870000000000005\n"
          ],
          "name": "stdout"
        }
      ]
    },
    {
      "cell_type": "code",
      "metadata": {
        "id": "um4MxfbFmqc5"
      },
      "source": [
        "arr = np.empty((len(X1),3))\n",
        "arr[:,0] = X1\n",
        "arr[:,1] = Y1\n",
        "arr[:,2] = Z1"
      ],
      "execution_count": null,
      "outputs": []
    },
    {
      "cell_type": "code",
      "metadata": {
        "id": "s9zgg-SG2s1p"
      },
      "source": [
        "dataset = pd.DataFrame({'Column1': X1, 'Column2': Y1,'Column3': Z1})\n",
        "dataset.to_csv('/content/drive/My Drive/Excel/lidar/test_data/grid1_subset_subset_input3.csv', header=None, index=None)"
      ],
      "execution_count": null,
      "outputs": []
    },
    {
      "cell_type": "code",
      "metadata": {
        "id": "nfyur7cPmqc8",
        "colab": {
          "base_uri": "https://localhost:8080/",
          "height": 68
        },
        "outputId": "cff601b4-4026-4c9e-ee3a-035db16dc703"
      },
      "source": [
        "print(X1[:5])\n",
        "print(Y1[:5])\n",
        "print(Z1[:5])"
      ],
      "execution_count": null,
      "outputs": [
        {
          "output_type": "stream",
          "text": [
            "[731497.61 731498.31 731499.77 731499.45 731498.78]\n",
            "[4712417.82 4712417.88 4712418.51 4712417.9  4712417.82]\n",
            "[356.7  357.37 359.25 369.62 369.37]\n"
          ],
          "name": "stdout"
        }
      ]
    },
    {
      "cell_type": "code",
      "metadata": {
        "id": "gbMgs4rysKvb",
        "scrolled": true,
        "colab": {
          "base_uri": "https://localhost:8080/"
        },
        "outputId": "5602121b-c104-4a84-fcc1-1492a859a110"
      },
      "source": [
        "\n",
        "hm = [1.5,3,4.5,6,7.5]\n",
        "hc = [0.5,0.37,0.25]\n",
        "\n",
        "itr = [2,4,6]\n",
        "ht = [1.7,2.5,3.5]\n",
        "\n",
        "print(hm)\n",
        "print(hc)\n",
        "print(itr)\n",
        "Xf =np.empty((1,1))\n",
        "Yf =np.empty((1,1))\n",
        "Zf =np.empty((1,1))\n",
        "Wf = np.empty((1,len(itr)))\n",
        "num_f = np.empty((1,len(itr)))\n",
        "Xcntrd = []\n",
        "Ycntrd = []\n",
        "# x = arr[:,0]\n",
        "# y = arr[:,1]\n",
        "# z = arr[:,2]\n",
        "x=X\n",
        "y=Y\n",
        "z=Z\n",
        "xmin, xmax = np.min(x), np.max(x)\n",
        "ymin, ymax = np.min(y), np.max(y)\n",
        "z = z.reshape(-1,1)\n",
        "\n",
        "\n",
        "w,h = np.abs(xmax-xmin), np.abs(ymax-ymin)\n",
        "print(h,w)\n",
        "\n",
        "hmargin = 0\n",
        "wmargin = 0\n",
        "# hstep = h/200\n",
        "# wstep = w/200\n",
        "\n",
        "hstep = 10\n",
        "wstep = 10\n",
        "\n",
        "ar1= (np.arange(ymin,ymax+1,hstep))\n",
        "ar1 = ar1[:-1]\n",
        "#print(ar1)\n",
        "ar2= np.arange(xmin,xmax+1,wstep)\n",
        "ar2 = ar2[:-1]\n",
        "#print(ar2)\n",
        "\n",
        "ar1 = list(ar1.ravel())\n",
        "ar2 = list(ar2.ravel())\n",
        "\n",
        "label = np.empty((len(x),1))\n",
        "label = label.astype(np.uint8)\n",
        "k=0\n",
        "for id in ar1:\n",
        "    for di in ar2:\n",
        "        label[(x>=di)&(x<=di+wstep)&(y>=id)&(y <= id + hstep)] = k\n",
        "        k+=1\n",
        "print('label done')\n",
        "del k\n",
        "num_tree = len(np.unique(label))\n",
        "# tree_H = np.empty(k, dtype = np.float32)\n",
        "tree_H = np.empty(num_tree, dtype = np.float32)\n",
        "print(label.shape,z.shape,num_tree,tree_H.shape)\n",
        "for lbl in list(np.unique(label)):\n",
        "    tree_H[lbl] = np.max(z[label == lbl]) - np.min(z[label == lbl])\n",
        "print('height computed')\n",
        "print(np.min(tree_H), np.max(tree_H),np.median(tree_H))  \n",
        "\n",
        "DBH = []   \n",
        "z = z.reshape(-1,)\n",
        "label = label.reshape(-1,)\n",
        "i = 0\n",
        "for mh in hm:\n",
        "    for ch in hc:\n",
        "        \n",
        "        X_sub,Y_sub,Z_sub,l_sub = sub_set(x,y, z,label,mh,ch)\n",
        "        for th in ht: \n",
        "            label2,cent2,out2,c_dist2 = apply_birch(X_sub.ravel(),Y_sub.ravel(), Z_sub.ravel(),th)\n",
        "            wf = np.empty((len(cent2),len(itr)))\n",
        "            n_f = np.empty((len(cent2),len(itr)))\n",
        "            j = 0\n",
        "            for rti in itr: \n",
        "                X_sub2, Y_sub2, Z_sub2, R_sub2, l_sub2 = ad_buffer(X_sub, Y_sub, Z_sub, c_dist2, label2,k_max=rti)\n",
        "                \n",
        "                X_sub2, Y_sub2, Z_sub2, R_sub2, l_sub2 = apply_zr(X_sub2, Y_sub2, Z_sub2, R_sub2, l_sub2, it_max = rti)\n",
        "                \n",
        "                X_sub2, Y_sub2, Z_sub2, R_sub2, l_sub2 = apply_finder(X_sub2, Y_sub2, Z_sub2, R_sub2, l_sub2, itmax = rti)\n",
        "                \n",
        "                w,dbh = width_finder(X_sub2, Y_sub2, Z_sub2, l_sub2)\n",
        "                DBH.append(dbh)\n",
        "                print(i,': ',dbh)\n",
        "                # a1, a2 = np.unique(l_sub, return_counts=True)\n",
        "                # a1 = a1.astype(np.uint8)\n",
        "                \n",
        "                # wf[a1,j] = w[:,0]\n",
        "                # n_f[a1,j] = a2\n",
        "                \n",
        "                \n",
        "                Xf = np.concatenate((Xf,X_sub))\n",
        "                Yf = np.concatenate((Yf,Y_sub))\n",
        "                Zf = np.concatenate((Zf,Z_sub))\n",
        "                # Wf = np.concatenate((Wf,wf))\n",
        "                # num_f = np.concatenate((num_f,n_f))\n",
        "                #Xcntrd.append(np.average(X_sub4))\n",
        "                #Ycntrd.append(np.average(Y_sub4))\n",
        "                i+=1\n",
        "                j+=1\n",
        "            #print('Wf: ',Wf.shape, num_f.shape)\n",
        "Xf = (Xf).reshape(-1,1)\n",
        "Yf = (Yf).reshape(-1,1)\n",
        "Zf = (Zf).reshape(-1,1)\n",
        "# Wf = (Wf).reshape(-1,len(itr))\n",
        "# num_f = (num_f).reshape(-1,len(itr))\n",
        "\n",
        "Xf = Xf[1:,:]\n",
        "Yf = Yf[1:,:]\n",
        "Zf = Zf[1:,:]\n",
        "# Wf = Wf[1:,:]\n",
        "# num_f = num_f[1:,:]\n",
        "\n",
        "final_dbh = np.median(np.array(DBH))"
      ],
      "execution_count": null,
      "outputs": [
        {
          "output_type": "stream",
          "text": [
            "[1.5, 3, 4.5, 6, 7.5]\n",
            "[0.5, 0.37, 0.25]\n",
            "[2, 4, 6]\n",
            "236.90000000037253 285.96999999997206\n",
            "label done\n",
            "(402421, 1) (402421, 1) 256 (256,)\n",
            "height computed\n",
            "28.85 58.71 40.275\n",
            "0 :  1.9100000001490116\n",
            "1 :  1.9100000000325963\n",
            "2 :  1.9100000000325963\n",
            "3 :  2.019999999960419\n",
            "4 :  2.0\n",
            "5 :  2.0\n",
            "6 :  2.0300000002607703\n",
            "7 :  1.9700000000884756\n",
            "8 :  1.9799999999813735\n",
            "9 :  2.0\n",
            "10 :  1.9899999999906868\n",
            "11 :  1.9899999999906868\n",
            "12 :  2.0899999999674037\n",
            "13 :  2.080000000074506\n",
            "14 :  2.080000000074506\n",
            "15 :  2.140000000305008\n",
            "16 :  2.109999999694992\n",
            "17 :  2.109999999694992\n",
            "18 :  1.9899999992921948\n",
            "19 :  1.9800000000977889\n",
            "20 :  1.9800000000977889\n",
            "21 :  2.3549999996903352\n",
            "22 :  2.290000000037253\n",
            "23 :  2.290000000037253\n",
            "24 :  2.5099999997764826\n",
            "25 :  2.455000000074506\n",
            "26 :  2.455000000074506\n",
            "27 :  1.8200000002980232\n",
            "28 :  1.8199999993667006\n",
            "29 :  1.8199999993667006\n",
            "30 :  1.9100000000325963\n",
            "31 :  1.8999999994412065\n",
            "32 :  1.900000000023283\n",
            "33 :  1.8399999999674037\n",
            "34 :  1.8300000000745058\n",
            "35 :  1.834999999962747\n",
            "36 :  1.979999999748543\n",
            "37 :  1.9699999997392297\n",
            "38 :  1.9699999997392297\n",
            "39 :  2.0899999999674037\n",
            "40 :  2.0799999999580905\n",
            "41 :  2.0700000002980232\n",
            "42 :  2.1150000001653098\n",
            "43 :  2.095000000204891\n",
            "44 :  2.090000000083819\n",
            "45 :  2.0100000000093132\n",
            "46 :  2.0\n",
            "47 :  2.0\n",
            "48 :  2.3100000002305023\n",
            "49 :  2.279999999969732\n",
            "50 :  2.279999999969732\n",
            "51 :  2.394999999727588\n",
            "52 :  2.339999999909196\n",
            "53 :  2.330000000016298\n",
            "54 :  1.7000000001862645\n",
            "55 :  1.690000000409782\n",
            "56 :  1.690000000409782\n",
            "57 :  1.804999999818392\n",
            "58 :  1.790000000037253\n",
            "59 :  1.7899999999208376\n",
            "60 :  1.7399999999906868\n",
            "61 :  1.709999999962747\n",
            "62 :  1.709999999962747\n",
            "63 :  1.900000000023283\n",
            "64 :  1.8900000000139698\n",
            "65 :  1.8900000000139698\n",
            "66 :  2.0200000000186265\n",
            "67 :  2.0100000000093132\n",
            "68 :  2.0100000000093132\n",
            "69 :  2.0650000002933666\n",
            "70 :  2.044999999983702\n",
            "71 :  2.0599999998230487\n",
            "72 :  2.0200000000186265\n",
            "73 :  2.019999999552965\n",
            "74 :  2.019999999552965\n",
            "75 :  2.299999999930151\n",
            "76 :  2.2799999999115244\n",
            "77 :  2.2799999999115244\n",
            "78 :  2.330000000074506\n",
            "79 :  2.3199999999487773\n",
            "80 :  2.3200000000651926\n",
            "81 :  1.6000000005587935\n",
            "82 :  1.599999999976717\n",
            "83 :  1.599999999976717\n",
            "84 :  1.709999999962747\n",
            "85 :  1.709999999962747\n",
            "86 :  1.6999999999534339\n",
            "87 :  1.709999999962747\n",
            "88 :  1.7199999997392297\n",
            "89 :  1.690000000060536\n",
            "90 :  1.8200000000651926\n",
            "91 :  1.8199999999487773\n",
            "92 :  1.8199999999487773\n",
            "93 :  1.9699999999720603\n",
            "94 :  1.959999999962747\n",
            "95 :  1.959999999962747\n",
            "96 :  1.93500000028871\n",
            "97 :  1.93999999971129\n",
            "98 :  1.9449999999487773\n",
            "99 :  1.9799999999813735\n",
            "100 :  1.9799999999813735\n",
            "101 :  1.9799999999813735\n",
            "102 :  2.269999999902211\n",
            "103 :  2.25\n",
            "104 :  2.25\n",
            "105 :  2.459999999962747\n",
            "106 :  2.419999999925494\n",
            "107 :  2.419999999925494\n",
            "108 :  1.559999999590218\n",
            "109 :  1.5500000000465661\n",
            "110 :  1.5500000000465661\n",
            "111 :  1.68999999971129\n",
            "112 :  1.6899999999441206\n",
            "113 :  1.6800000006332994\n",
            "114 :  1.665000000037253\n",
            "115 :  1.6899999994784594\n",
            "116 :  1.6749999998719431\n",
            "117 :  1.7699999995529652\n",
            "118 :  1.7600000000093132\n",
            "119 :  1.7600000000093132\n",
            "120 :  1.8699999999953434\n",
            "121 :  1.8600000003352761\n",
            "122 :  1.8599999999860302\n",
            "123 :  1.8700000001117587\n",
            "124 :  1.8800000000046566\n",
            "125 :  1.8699999999953434\n",
            "126 :  1.9800000004470348\n",
            "127 :  1.9799999999813735\n",
            "128 :  1.9799999999813735\n",
            "129 :  2.2199999997392297\n",
            "130 :  2.200000000069849\n",
            "131 :  2.190000000409782\n",
            "132 :  2.2800000002607703\n",
            "133 :  2.2800000000279397\n",
            "134 :  2.2700000004842877\n"
          ],
          "name": "stdout"
        }
      ]
    },
    {
      "cell_type": "code",
      "metadata": {
        "id": "p2J9sGojyeU0",
        "colab": {
          "base_uri": "https://localhost:8080/"
        },
        "outputId": "6225618a-29d8-438f-d13c-b027271835a5"
      },
      "source": [
        "print(len(tree_H[tree_H>300]))\n"
      ],
      "execution_count": null,
      "outputs": [
        {
          "output_type": "stream",
          "text": [
            "0\n"
          ],
          "name": "stdout"
        }
      ]
    },
    {
      "cell_type": "code",
      "metadata": {
        "id": "oNI5qgfDJEm6"
      },
      "source": [
        "# dataset = pd.DataFrame({'Column1': X_sub[:,0], 'Column2': Y_sub[:,0],'Column3': Z_sub[:,0], 'Column4': label2})\n",
        "# dataset.to_csv('/content/drive/My Drive/Excel/lidar/test_data/grid3_subset_output.csv', header=None, index=None)"
      ],
      "execution_count": null,
      "outputs": []
    },
    {
      "cell_type": "code",
      "metadata": {
        "id": "GjEf0HySLiGS"
      },
      "source": [
        "# dataset = pd.DataFrame({'Column1': X_sub2[:,0], 'Column2': Y_sub2[:,0],'Column3': Z_sub2[:,0], 'Column4': l_sub2[:,0]})\n",
        "# dataset.to_csv('/content/drive/My Drive/Excel/lidar/test_data/grid3_buffer_output.csv', header=None, index=None)"
      ],
      "execution_count": null,
      "outputs": []
    },
    {
      "cell_type": "code",
      "metadata": {
        "id": "kCCmnFclM68E"
      },
      "source": [
        "# dataset = pd.DataFrame({'Column1': X_sub3[:,0], 'Column2': Y_sub3[:,0],'Column3': Z_sub3[:,0], 'Column4': l_sub3[:,0]})\n",
        "# dataset.to_csv('/content/drive/My Drive/Excel/lidar/test_data/grid3_zr_adjust_output.csv', header=None, index=None)"
      ],
      "execution_count": null,
      "outputs": []
    },
    {
      "cell_type": "code",
      "metadata": {
        "id": "Ji2_sMbWNHrw"
      },
      "source": [
        "# dataset = pd.DataFrame({'Column1': X_sub4[:,0], 'Column2': Y_sub4[:,0],'Column3': Z_sub4[:,0], 'Column4': l_sub4[:,0]})\n",
        "# dataset.to_csv('/content/drive/My Drive/Excel/lidar/test_data/grid3_xyfinder_output.csv', header=None, index=None)"
      ],
      "execution_count": null,
      "outputs": []
    },
    {
      "cell_type": "code",
      "metadata": {
        "id": "hDdOHzSDuEnF"
      },
      "source": [
        "label_3,cent_3,out_3,c_dist_3 = apply_birch(Xf.ravel(),Yf.ravel(), Zf.ravel(),2.5)\n",
        "print(len(cent_3))\n",
        "\n"
      ],
      "execution_count": null,
      "outputs": []
    },
    {
      "cell_type": "code",
      "metadata": {
        "id": "3FrdWvwhPvOH"
      },
      "source": [
        "dataset = pd.DataFrame({'Column1': Xf[:,0], 'Column2': Yf[:,0],'Column3': Zf[:,0], 'Column4': label_3})\n",
        "dataset.to_csv('/content/drive/My Drive/Excel/lidar/test_data/grid3_after_birch_output.csv', header=None, index=None)"
      ],
      "execution_count": null,
      "outputs": []
    },
    {
      "cell_type": "code",
      "metadata": {
        "id": "0rco0yxWmqdH"
      },
      "source": [
        "print(len(np.unique(label_3)))"
      ],
      "execution_count": null,
      "outputs": []
    },
    {
      "cell_type": "code",
      "metadata": {
        "id": "o2Tn2dCVmqdK"
      },
      "source": [
        "label3,cent3,out3,c_dist3 = apply_kmeans(Xf.ravel(),Yf.ravel(), Zf.ravel(),len(np.unique(label_3)),'k-means++')\n",
        "print(len(cent3))"
      ],
      "execution_count": null,
      "outputs": []
    },
    {
      "cell_type": "code",
      "metadata": {
        "id": "AA_KOEvxUDO9"
      },
      "source": [
        "dataset = pd.DataFrame({'Column1': Xf[:,0], 'Column2': Yf[:,0],'Column3': Zf[:,0], 'Column4': out3})\n",
        "dataset.to_csv('/content/drive/My Drive/Excel/lidar/test_data/grid3_after_kmeans_output2.csv', header=None, index=None)"
      ],
      "execution_count": null,
      "outputs": []
    },
    {
      "cell_type": "code",
      "metadata": {
        "id": "nRLBrTbSy-Q6",
        "scrolled": true
      },
      "source": [
        "plot_kmeans(Xf,Yf,Zf,label3,cent3)"
      ],
      "execution_count": null,
      "outputs": []
    },
    {
      "cell_type": "code",
      "metadata": {
        "id": "PNSnloZJrsCu"
      },
      "source": [
        "w = final_dbh*np.ones((len(cent3),1))\n",
        "print(w.shape)\n",
        "X_f = np.empty((1,1))\n",
        "Y_f = np.empty((1,1))\n",
        "Z_f = np.empty((1,1))\n",
        "R_f = np.empty((1,1))\n",
        "l_f = np.empty((1,1))\n",
        "\n",
        "for lbl in list(np.unique(out3)):\n",
        "\n",
        "    x1,y1,z1,r1,l1 = Xf[out3 == lbl], Yf[out3 == lbl], Zf[out3 == lbl], c_dist3[out3 == lbl], out3[out3 == lbl]\n",
        "    \n",
        "    x2 = x1[r1<=w[lbl]/2]\n",
        "    y2 = y1[r1<=w[lbl]/2]\n",
        "    z2 = z1[r1<=w[lbl]/2]\n",
        "    l2 = l1[r1<=w[lbl]/2]\n",
        "    r2 = r1[r1<=w[lbl]/2]\n",
        "\n",
        "    \n",
        "    x2 = x2.reshape(-1,1)\n",
        "    y2 = y2.reshape(-1,1)\n",
        "    z2 = z2.reshape(-1,1)\n",
        "    r2 = r2.reshape(-1,1)\n",
        "    l2 = l2.reshape(-1,1)\n",
        "    \n",
        "    \n",
        "    print(len(l2))\n",
        "\n",
        "    X_f = np.concatenate((X_f,x2))\n",
        "    Y_f = np.concatenate((Y_f,y2))\n",
        "    Z_f = np.concatenate((Z_f,z2))\n",
        "    R_f = np.concatenate((R_f,r2))    \n",
        "    l_f = np.concatenate((l_f,l2))\n",
        "X_f = (X_f).reshape(-1,1)\n",
        "Y_f = (Y_f).reshape(-1,1)\n",
        "Z_f = (Z_f).reshape(-1,1)\n",
        "R_f = (R_f).reshape(-1,1)\n",
        "l_f = (l_f).reshape(-1,1)\n",
        "\n",
        "X_f = X_f[1:,:]\n",
        "Y_f = Y_f[1:,:]\n",
        "Z_f = Z_f[1:,:]\n",
        "R_f = R_f[1:,:]\n",
        "l_f = l_f[1:,:]"
      ],
      "execution_count": null,
      "outputs": []
    },
    {
      "cell_type": "code",
      "metadata": {
        "id": "18jgMA1enuR4"
      },
      "source": [
        "clabel_3 = []\n",
        "#clabel_3 = list(map(''.join, zip('cl_', label_3.astype(str))))\n",
        "#clabel_3 = 'cl_' + str(label_3) \n",
        "\n",
        "for lbl in list(l_f):\n",
        "    clabel_3.append('cl_' + str(lbl+1))\n",
        "print(clabel_3[15])"
      ],
      "execution_count": null,
      "outputs": []
    },
    {
      "cell_type": "code",
      "metadata": {
        "id": "8zl9AQ8wk2Rn"
      },
      "source": [
        "dataset = pd.DataFrame({'Column1': X_f[:,0], 'Column2': Y_f[:,0],'Column3': Z_f[:,0], 'Column4': l_f[:,0]})\n",
        "dataset.to_csv('/content/drive/My Drive/Excel/lidar/test_data/grid3_before_outlier_output.csv', header=None, index=None)"
      ],
      "execution_count": null,
      "outputs": []
    },
    {
      "cell_type": "code",
      "metadata": {
        "id": "A7f22MJqByq8"
      },
      "source": [
        "w1,dbh = width_finder(X_f,Y_f,Z_f,l_f)\n",
        "            \n",
        "l_list = list((np.unique(l_f)).astype(np.uint8).reshape(-1,1))\n",
        "print(len(l_list))\n",
        "centr = np.empty((len(l_list),5), dtype = np.float32)\n",
        "\n",
        "print(w1.shape,l_list[5])\n",
        "i = 0\n",
        "for k,lbl in enumerate(l_list):\n",
        "\n",
        "    x1,y1,z1,r1,l1 = X_f[l_f == lbl], Y_f[l_f == lbl], Z_f[l_f == lbl], R_f[l_f == lbl], l_f[l_f == lbl]\n",
        "    if len(z1) >1:\n",
        "        centr[i,0] = np.average(x1)\n",
        "        centr[i,1] = np.average(y1)\n",
        "        centr[i,2] = np.max(z1)\n",
        "        centr[i,3] = w1[k]\n",
        "        centr[i,4] = (l_list[i]+1)\n",
        "    print(centr[i,:])\n",
        "    i += 1\n",
        "\n",
        "\n",
        "#print(len(centr))\n",
        "#dataset = pd.DataFrame(centr)\n",
        "#dataset.to_csv('./ldr_full_b14_centre.csv', header=None, index=None)"
      ],
      "execution_count": null,
      "outputs": []
    },
    {
      "cell_type": "code",
      "metadata": {
        "id": "WtqEZRoGTb_O"
      },
      "source": [
        "X_f2 = np.empty((1,1))\n",
        "Y_f2 = np.empty((1,1))\n",
        "Z_f2 = np.empty((1,1))\n",
        "R_f2 = np.empty((1,1))\n",
        "l_f2 = np.empty((1,1))\n",
        "\n",
        "\n",
        "for lbl in list(np.unique(l_f)):\n",
        "\n",
        "    x1,y1,z1,r1,l1 = X_f[l_f == lbl], Y_f[l_f == lbl], Z_f[l_f == lbl], R_f[l_f == lbl], l_f[l_f == lbl]\n",
        "    \n",
        "    length2 = len(l1)\n",
        "    centr2 = np.empty((length2,5), dtype = np.float32)\n",
        "\n",
        "    centr2[:,0] = x1.reshape(-1,)\n",
        "    centr2[:,1] = y1.reshape(-1,)\n",
        "    centr2[:,2] = z1.reshape(-1,)\n",
        "    centr2[:,3] = r1.reshape(-1,)\n",
        "    centr2[:,4] = l1.reshape(-1,)\n",
        "    \n",
        "    \n",
        "    #print(centr[lbl,:])\n",
        "    print(length2)\n",
        "    dataset = pd.DataFrame(centr2)\n",
        "    #dataset1 = dataset[(np.abs(stats.zscore(dataset.iloc[:,3:4])) < 1.96).all(axis=1)]\n",
        "    dataset1 = dataset[(stats.zscore(dataset.iloc[:,3:4]) < 1.96).all(axis=1)]\n",
        "    dataset2 = dataset1[(np.abs(stats.zscore(dataset1.iloc[:,2:3])) < 1.96).all(axis=1)]\n",
        "    \n",
        "    x2 = dataset2.iloc[:,0]\n",
        "    y2 = dataset2.iloc[:,1]\n",
        "    z2 = dataset2.iloc[:,2]\n",
        "    r2 = dataset2.iloc[:,3]\n",
        "    l2 = dataset2.iloc[:,4]\n",
        "\n",
        "    x2 = np.array(x2).reshape(-1,1)\n",
        "    y2 = np.array(y2).reshape(-1,1)\n",
        "    z2 = np.array(z2).reshape(-1,1)\n",
        "    r2 = np.array(r2).reshape(-1,1)\n",
        "    l2 = np.array(l2).reshape(-1,1)\n",
        "    \n",
        "    print(len(l2))\n",
        "\n",
        "    X_f2 = np.concatenate((X_f2,x2))\n",
        "    Y_f2 = np.concatenate((Y_f2,y2))\n",
        "    Z_f2 = np.concatenate((Z_f2,z2))\n",
        "    R_f2 = np.concatenate((R_f2,r2))    \n",
        "    l_f2 = np.concatenate((l_f2,l2))\n",
        "X_f2 = (X_f2).reshape(-1,1)\n",
        "Y_f2 = (Y_f2).reshape(-1,1)\n",
        "Z_f2 = (Z_f2).reshape(-1,1)\n",
        "R_f2 = (R_f2).reshape(-1,1)\n",
        "l_f2 = (l_f2).reshape(-1,1)\n",
        "\n",
        "X_f2 = X_f2[1:,:]\n",
        "Y_f2 = Y_f2[1:,:]\n",
        "Z_f2 = Z_f2[1:,:]\n",
        "R_f2 = R_f2[1:,:]\n",
        "l_f2 = l_f2[1:,:]\n"
      ],
      "execution_count": null,
      "outputs": []
    },
    {
      "cell_type": "code",
      "metadata": {
        "id": "bsCtNxHheoZW"
      },
      "source": [
        "w,dbh = width_finder(X_f2,Y_f2,Z_f2,l_f2)\n",
        "            \n",
        "l_list = list((np.unique(l_f2)).astype(np.uint8).reshape(-1,1))\n",
        "centr = np.empty((len(l_list),5), dtype = np.float32)\n",
        "\n",
        "i = 0\n",
        "for k,lbl in enumerate(l_list):\n",
        "    x1,y1,z1,r1,l1 = X_f2[l_f2 == lbl], Y_f2[l_f2 == lbl], Z_f2[l_f2 == lbl], R_f2[l_f2 == lbl], l_f2[l_f2 == lbl]\n",
        "    \n",
        "    print(w.shape,len(l_list),l_list[i])\n",
        "    if len(z1) >1:\n",
        "        centr[i,0] = np.average(x1)\n",
        "        centr[i,1] = np.average(y1)\n",
        "        centr[i,2] = np.max(z1)\n",
        "        centr[i,3] = w[k]\n",
        "        centr[i,4] = (l_list[i]+1)\n",
        "    print(centr[i,:])\n",
        "    i += 1   \n",
        "    \n",
        "#print(len(centr))\n",
        "#dataset = pd.DataFrame(centr)\n",
        "#dataset.to_csv('./ldr_full_b14_out_centre.csv', header=None, index=None)"
      ],
      "execution_count": null,
      "outputs": []
    },
    {
      "cell_type": "code",
      "metadata": {
        "id": "mSraIbOtm_zb"
      },
      "source": [
        "dataset = pd.DataFrame({'Column1': X_f2[:,0], 'Column2': Y_f2[:,0],'Column3': Z_f2[:,0], 'Column4': l_f2[:,0]})\n",
        "dataset.to_csv('/content/drive/My Drive/Excel/lidar/test_data/grid3_outlier1_output.csv', header=None, index=None)"
      ],
      "execution_count": null,
      "outputs": []
    },
    {
      "cell_type": "code",
      "metadata": {
        "id": "3Jv7MlAvee8J"
      },
      "source": [
        "X_f3 = np.empty((1,1))\n",
        "Y_f3 = np.empty((1,1))\n",
        "Z_f3 = np.empty((1,1))\n",
        "R_f3 = np.empty((1,1))\n",
        "l_f3 = np.empty((1,1))\n",
        "\n",
        "a1,a2 = np.unique(l_f2,return_counts = True)\n",
        "darr = np.empty((len(a1),2))\n",
        "darr[:,0] = a1\n",
        "darr[:,1] = a2\n",
        "df3 = pd.DataFrame(darr)\n",
        "\n",
        "df4 = df3[(df3.iloc[:,1:] > 30).all(axis=1)]\n",
        "\n",
        "a11 = (df4.iloc[:,0])\n",
        "print(len(darr))\n",
        "print(len(a11))\n",
        "for lbl in list(a11):\n",
        "    x2,y2,z2,r2,l2 = X_f2[l_f2 == lbl], Y_f2[l_f2 == lbl], Z_f2[l_f2 == lbl], R_f2[l_f2 == lbl], l_f2[l_f2 == lbl]\n",
        "    \n",
        "    x2 = np.array(x2).reshape(-1,1)\n",
        "    y2 = np.array(y2).reshape(-1,1)\n",
        "    z2 = np.array(z2).reshape(-1,1)\n",
        "    r2 = np.array(r2).reshape(-1,1)\n",
        "    l2 = np.array(l2).reshape(-1,1)\n",
        "    \n",
        "    print(len(l2))\n",
        "\n",
        "    X_f3 = np.concatenate((X_f3,x2))\n",
        "    Y_f3 = np.concatenate((Y_f3,y2))\n",
        "    Z_f3 = np.concatenate((Z_f3,z2))\n",
        "    R_f3 = np.concatenate((R_f3,r2))    \n",
        "    l_f3 = np.concatenate((l_f3,l2))\n",
        "X_f3 = (X_f3).reshape(-1,1)\n",
        "Y_f3 = (Y_f3).reshape(-1,1)\n",
        "Z_f3 = (Z_f3).reshape(-1,1)\n",
        "R_f3 = (R_f3).reshape(-1,1)\n",
        "l_f3 = (l_f3).reshape(-1,1)\n",
        "\n",
        "X_f3 = X_f3[1:,:]\n",
        "Y_f3 = Y_f3[1:,:]\n",
        "Z_f3 = Z_f3[1:,:]\n",
        "R_f3 = R_f3[1:,:]\n",
        "l_f3 = l_f3[1:,:]\n"
      ],
      "execution_count": null,
      "outputs": []
    },
    {
      "cell_type": "code",
      "metadata": {
        "id": "0iIkLlcXYa_T"
      },
      "source": [
        "w,dbh = width_finder(X_f3,Y_f3,Z_f3,l_f3)\n",
        "            \n",
        "l_list = list((np.unique(l_f3)).astype(np.uint8).reshape(-1,1))\n",
        "centr = np.empty((len(l_list),5), dtype = np.float32)\n",
        "\n",
        "i = 0\n",
        "for k,lbl in enumerate(l_list):\n",
        "    x1,y1,z1,r1,l1 = X_f3[l_f3 == lbl], Y_f3[l_f3 == lbl], Z_f3[l_f3 == lbl], R_f3[l_f3 == lbl], l_f3[l_f3 == lbl]\n",
        "    \n",
        "    print(w.shape,len(l_list),l_list[i])\n",
        "    if len(z1) >1:\n",
        "        centr[i,0] = np.average(x1)\n",
        "        centr[i,1] = np.average(y1)\n",
        "        centr[i,2] = np.max(z1)\n",
        "        centr[i,3] = w[k]\n",
        "        centr[i,4] = (l_list[i]+1)\n",
        "    print(centr[i,:])\n",
        "    i += 1   \n",
        "    \n",
        "#print(len(centr))\n",
        "#dataset = pd.DataFrame(centr)\n",
        "#dataset.to_csv('./ldr_full_b14_out2__centre.csv', header=None, index=None)"
      ],
      "execution_count": null,
      "outputs": []
    },
    {
      "cell_type": "code",
      "metadata": {
        "id": "oCd68jOQpwX8"
      },
      "source": [
        "dataset = pd.DataFrame({'Column1': X_f3[:,0], 'Column2': Y_f3[:,0],'Column3': Z_f3[:,0], 'Column4': l_f3[:,0]})\n",
        "dataset.to_csv('/content/drive/My Drive/Excel/lidar/test_data/grid3_outlier2_output.csv', header=None, index=None)"
      ],
      "execution_count": null,
      "outputs": []
    },
    {
      "cell_type": "code",
      "metadata": {
        "id": "7wtRSxhnQy5_"
      },
      "source": [
        "X_f4 = np.empty((1,1))\n",
        "Y_f4 = np.empty((1,1))\n",
        "Z_f4 = np.empty((1,1))\n",
        "R_f4 = np.empty((1,1))\n",
        "l_f4 = np.empty((1,1))\n",
        "n_f4 = np.empty((1,1))\n",
        "\n",
        "for lbl in list(np.unique(l_f3)):\n",
        "\n",
        "    x1,y1,z1,r1,l1 = X_f[l_f == lbl], Y_f[l_f == lbl], Z_f[l_f == lbl], R_f[l_f == lbl], l_f[l_f == lbl]\n",
        "    darr2 = np.empty((len(x1),5))\n",
        "    darr2[:,0] = x1\n",
        "    darr2[:,1] = y1\n",
        "    darr2[:,2] = z1\n",
        "    darr2[:,3] = r1\n",
        "    darr2[:,4] = l1\n",
        "    \n",
        "    \n",
        "    \n",
        "    \n",
        "    a1,a2 = np.unique(darr2,return_counts = True, axis = 0)\n",
        "    \n",
        "    x2 = np.array(a1[:,0]).reshape(-1,1)\n",
        "    y2 = np.array(a1[:,1]).reshape(-1,1)\n",
        "    z2 = np.array(a1[:,2]).reshape(-1,1)\n",
        "    r2 = np.array(a1[:,3]).reshape(-1,1)\n",
        "    l2 = np.array(a1[:,4]).reshape(-1,1)\n",
        "    a2 = a2.reshape(-1,1)\n",
        "    #print(len(a2))\n",
        "\n",
        "    X_f4 = np.concatenate((X_f4,x2))\n",
        "    Y_f4 = np.concatenate((Y_f4,y2))\n",
        "    Z_f4 = np.concatenate((Z_f4,z2))\n",
        "    R_f4 = np.concatenate((R_f4,r2))    \n",
        "    l_f4 = np.concatenate((l_f4,l2))\n",
        "    n_f4 = np.concatenate((n_f4,a2))    \n",
        "    \n",
        "X_f4 = (X_f4).reshape(-1,1)\n",
        "Y_f4 = (Y_f4).reshape(-1,1)\n",
        "Z_f4 = (Z_f4).reshape(-1,1)\n",
        "R_f4 = (R_f4).reshape(-1,1)\n",
        "l_f4 = (l_f4).reshape(-1,1)\n",
        "n_f4 = (n_f4).reshape(-1,1)\n",
        "\n",
        "X_f4 = X_f4[1:,:]\n",
        "Y_f4 = Y_f4[1:,:]\n",
        "Z_f4 = Z_f4[1:,:]\n",
        "R_f4 = R_f4[1:,:]\n",
        "l_f4 = l_f4[1:,:]\n",
        "n_f4 = n_f4[1:,:]\n",
        "\n"
      ],
      "execution_count": null,
      "outputs": []
    },
    {
      "cell_type": "code",
      "metadata": {
        "id": "_WuE7zbvqIR2"
      },
      "source": [
        "dataset = pd.DataFrame({'Column1': X_f4[:,0], 'Column2': Y_f4[:,0],'Column3': Z_f4[:,0], 'Column4': l_f4[:,0]})\n",
        "dataset.to_csv('/content/drive/My Drive/Excel/lidar/test_data/grid3_unique_pts_output.csv', header=None, index=None)"
      ],
      "execution_count": null,
      "outputs": []
    },
    {
      "cell_type": "code",
      "metadata": {
        "id": "9ECO7wwkeV_2"
      },
      "source": [
        "X_f5 = np.empty((1,1))\n",
        "Y_f5 = np.empty((1,1))\n",
        "Z_f5 = np.empty((1,1))\n",
        "R_f5 = np.empty((1,1))\n",
        "l_f5 = np.empty((1,1))\n",
        "\n",
        "for lbl in list(np.unique(l_f4)):\n",
        "    \n",
        "    x1,y1,z1,r1,l1 = X_f4[l_f4 == lbl], Y_f4[l_f4 == lbl], Z_f4[l_f4 == lbl], R_f4[l_f4 == lbl], l_f4[l_f4 == lbl]\n",
        "    \n",
        "    length2 = len(l1)\n",
        "    centr2 = np.empty((length2,5), dtype = np.float32)\n",
        "\n",
        "    centr2[:,0] = x1.reshape(-1,)\n",
        "    centr2[:,1] = y1.reshape(-1,)\n",
        "    centr2[:,2] = z1.reshape(-1,)\n",
        "    centr2[:,3] = r1.reshape(-1,)\n",
        "    centr2[:,4] = l1.reshape(-1,)\n",
        "    \n",
        "    \n",
        "    \n",
        "    print(length2)\n",
        "    dataset = pd.DataFrame(centr2)\n",
        "    \n",
        "    dataset1 = dataset[(stats.zscore(dataset.iloc[:,3:4]) < 1.96).all(axis=1)]\n",
        "    dataset2 = dataset1[(np.abs(stats.zscore(dataset1.iloc[:,2:3])) < 1.96).all(axis=1)]\n",
        "    \n",
        "    x2 = dataset2.iloc[:,0]\n",
        "    y2 = dataset2.iloc[:,1]\n",
        "    z2 = dataset2.iloc[:,2]\n",
        "    r2 = dataset2.iloc[:,3]\n",
        "    l2 = dataset2.iloc[:,4]\n",
        "\n",
        "    x2 = np.array(x2).reshape(-1,1)\n",
        "    y2 = np.array(y2).reshape(-1,1)\n",
        "    z2 = np.array(z2).reshape(-1,1)\n",
        "    r2 = np.array(r2).reshape(-1,1)\n",
        "    l2 = np.array(l2).reshape(-1,1)\n",
        "    \n",
        "    print(len(l2))\n",
        "\n",
        "    X_f5 = np.concatenate((X_f5,x2))\n",
        "    Y_f5 = np.concatenate((Y_f5,y2))\n",
        "    Z_f5 = np.concatenate((Z_f5,z2))\n",
        "    R_f5 = np.concatenate((R_f5,r2))    \n",
        "    l_f5 = np.concatenate((l_f5,l2))\n",
        "X_f5 = (X_f5).reshape(-1,1)\n",
        "Y_f5 = (Y_f5).reshape(-1,1)\n",
        "Z_f5 = (Z_f5).reshape(-1,1)\n",
        "R_f5 = (R_f5).reshape(-1,1)\n",
        "l_f5 = (l_f5).reshape(-1,1)\n",
        "\n",
        "X_f5 = X_f5[1:,:]\n",
        "Y_f5 = Y_f5[1:,:]\n",
        "Z_f5 = Z_f5[1:,:]\n",
        "R_f5 = R_f5[1:,:]\n",
        "l_f5 = l_f5[1:,:]\n"
      ],
      "execution_count": null,
      "outputs": []
    },
    {
      "cell_type": "code",
      "metadata": {
        "id": "mmWQ72dHqZoq"
      },
      "source": [
        "dataset = pd.DataFrame({'Column1': X_f5[:,0], 'Column2': Y_f5[:,0],'Column3': Z_f5[:,0], 'Column4': l_f5[:,0]})\n",
        "dataset.to_csv('/content/drive/My Drive/Excel/lidar/test_data/grid3_outlier3_unique_pts_output.csv', header=None, index=None)"
      ],
      "execution_count": null,
      "outputs": []
    },
    {
      "cell_type": "code",
      "metadata": {
        "id": "48NF36WHgTmF"
      },
      "source": [
        "X_f6 = np.empty((1,1))\n",
        "Y_f6 = np.empty((1,1))\n",
        "Z_f6 = np.empty((1,1))\n",
        "R_f6 = np.empty((1,1))\n",
        "l_f6 = np.empty((1,1))\n",
        "\n",
        "\n",
        "a1,a2 = np.unique(l_f5,return_counts = True)\n",
        "darr = np.empty((len(a1),2))\n",
        "darr[:,0] = a1\n",
        "darr[:,1] = a2\n",
        "df3 = pd.DataFrame(darr)\n",
        "\n",
        "# df4 = df3[(df3.iloc[:,1:] > 30).all(axis=1)]\n",
        "\n",
        "# a11 = (df4.iloc[:,0])\n",
        "a11 = (df3.iloc[:,0])\n",
        "print(len(darr))\n",
        "print(len(a11))\n",
        "for lbl in list(a11):\n",
        "    x2,y2,z2,r2,l2 = X_f5[l_f5 == lbl], Y_f5[l_f5 == lbl], Z_f5[l_f5 == lbl], R_f5[l_f5 == lbl], l_f5[l_f5 == lbl]\n",
        "    \n",
        "    x2 = np.array(x2).reshape(-1,1)\n",
        "    y2 = np.array(y2).reshape(-1,1)\n",
        "    z2 = np.array(z2).reshape(-1,1)\n",
        "    r2 = np.array(r2).reshape(-1,1)\n",
        "    l2 = np.array(l2).reshape(-1,1)\n",
        "    \n",
        "    print(len(l2))\n",
        "\n",
        "    X_f6 = np.concatenate((X_f6,x2))\n",
        "    Y_f6 = np.concatenate((Y_f6,y2))\n",
        "    Z_f6 = np.concatenate((Z_f6,z2))\n",
        "    R_f6 = np.concatenate((R_f6,r2))    \n",
        "    l_f6 = np.concatenate((l_f6,l2))\n",
        "X_f6 = (X_f6).reshape(-1,1)\n",
        "Y_f6 = (Y_f6).reshape(-1,1)\n",
        "Z_f6 = (Z_f6).reshape(-1,1)\n",
        "R_f6 = (R_f6).reshape(-1,1)\n",
        "l_f6 = (l_f6).reshape(-1,1)\n",
        "\n",
        "X_f6 = X_f6[1:,:]\n",
        "Y_f6 = Y_f6[1:,:]\n",
        "Z_f6 = Z_f6[1:,:]\n",
        "R_f6 = R_f6[1:,:]\n",
        "l_f6 = l_f6[1:,:]\n"
      ],
      "execution_count": null,
      "outputs": []
    },
    {
      "cell_type": "code",
      "metadata": {
        "id": "pPgOvwCIq85q"
      },
      "source": [
        "dataset = pd.DataFrame({'Column1': X_f6[:,0], 'Column2': Y_f6[:,0],'Column3': Z_f6[:,0], 'Column4': l_f6[:,0]})\n",
        "dataset.to_csv('/content/drive/My Drive/Excel/lidar/test_data/grid3_outlier4_unique_pts_output.csv', header=None, index=None)"
      ],
      "execution_count": null,
      "outputs": []
    },
    {
      "cell_type": "code",
      "metadata": {
        "id": "04We6tJ1jbXA"
      },
      "source": [
        "w,dbh = width_finder(X_f6,Y_f6,Z_f6,l_f6)\n",
        "            \n",
        "l_list = list((np.unique(l_f6)).astype(np.uint8).reshape(-1,1))\n",
        "centr = np.empty((len(l_list),5), dtype = np.float32)\n",
        "\n",
        "i = 0\n",
        "for k,lbl in enumerate(l_list):\n",
        "    x1,y1,z1,r1,l1 = X_f6[l_f6 == lbl], Y_f6[l_f6 == lbl], Z_f6[l_f6 == lbl], R_f6[l_f6 == lbl], l_f6[l_f6 == lbl]\n",
        "\n",
        "    print(w.shape,len(l_list),l_list[i])\n",
        "    if len(z1) >1:\n",
        "        centr[i,0] = np.average(x1)\n",
        "        centr[i,1] = np.average(y1)\n",
        "        centr[i,2] = np.max(z1)\n",
        "        centr[i,3] = w[k]\n",
        "        centr[i,4] = (l_list[i]+1)\n",
        "    print(centr[i,:])\n",
        "    i += 1   \n",
        "    \n",
        "#print(len(centr))\n",
        "#dataset = pd.DataFrame(centr)\n",
        "#dataset.to_csv('./ldr_full_b14_out4__centre.csv', header=None, index=None)"
      ],
      "execution_count": null,
      "outputs": []
    },
    {
      "cell_type": "code",
      "metadata": {
        "id": "aFgh2FRlGZcX"
      },
      "source": [
        "X_f7 = np.empty((1,1))\n",
        "Y_f7 = np.empty((1,1))\n",
        "Z_f7 = np.empty((1,1))\n",
        "R_f7 = np.empty((1,1))\n",
        "l_f7 = np.empty((1,1))\n",
        "\n",
        "\n",
        "for lbl in list(np.unique(l_f6)):\n",
        "    x1,y1,z1,r1,l1 = X_f6[l_f6 == lbl], Y_f6[l_f6 == lbl], Z_f6[l_f6 == lbl], R_f6[l_f6 == lbl], l_f6[l_f6 == lbl]\n",
        "\n",
        "    xmax,xmin = np.max(x1), np.min(x1)\n",
        "    ymax,ymin = np.max(y1), np.min(y1)\n",
        "    zmin = np.min(Z[(X<=xmax) & (X>=xmin) & (Y<=ymax) & (Y>=ymin)]) + 5\n",
        "    zmax = zmin + 10\n",
        "    \n",
        "    x2 = x1[(z1<=zmax) & (z1>=zmin)]\n",
        "    y2 = y1[(z1<=zmax) & (z1>=zmin)]\n",
        "    z2 = z1[(z1<=zmax) & (z1>=zmin)]\n",
        "    r2 = r1[(z1<=zmax) & (z1>=zmin)]\n",
        "    l2 = l1[(z1<=zmax) & (z1>=zmin)]\n",
        "    \n",
        "    x2 = np.array(x2).reshape(-1,1)\n",
        "    y2 = np.array(y2).reshape(-1,1)\n",
        "    z2 = np.array(z2).reshape(-1,1)\n",
        "    r2 = np.array(r2).reshape(-1,1)\n",
        "    l2 = np.array(l2).reshape(-1,1)\n",
        "    \n",
        "    print(len(l2))\n",
        "\n",
        "    X_f7 = np.concatenate((X_f7,x2))\n",
        "    Y_f7 = np.concatenate((Y_f7,y2))\n",
        "    Z_f7 = np.concatenate((Z_f7,z2))\n",
        "    R_f7 = np.concatenate((R_f7,r2))    \n",
        "    l_f7 = np.concatenate((l_f7,l2))\n",
        "X_f7 = (X_f7).reshape(-1,1)\n",
        "Y_f7 = (Y_f7).reshape(-1,1)\n",
        "Z_f7 = (Z_f7).reshape(-1,1)\n",
        "R_f7 = (R_f7).reshape(-1,1)\n",
        "l_f7 = (l_f7).reshape(-1,1)\n",
        "\n",
        "X_f7 = X_f7[1:,:]\n",
        "Y_f7 = Y_f7[1:,:]\n",
        "Z_f7 = Z_f7[1:,:]\n",
        "R_f7 = R_f7[1:,:]\n",
        "l_f7 = l_f7[1:,:]                "
      ],
      "execution_count": null,
      "outputs": []
    },
    {
      "cell_type": "code",
      "metadata": {
        "id": "7293g-9Ii4Ko"
      },
      "source": [
        "print(len(R_f7), len(l_f7), len(X_f7),len(Y_f7), len(Z_f7))\n",
        "dataset = pd.DataFrame({'Column1': X_f7[:,0], 'Column2': Y_f7[:,0],'Column3': Z_f7[:,0], 'Column4': R_f7[:,0],'Column5': l_f7[:,0]})\n",
        "dataset.to_csv('/content/drive/My Drive/Excel/lidar/test_data/grid3_height_subset_unique_pts_output.csv', header=None, index=None)"
      ],
      "execution_count": null,
      "outputs": []
    },
    {
      "cell_type": "code",
      "metadata": {
        "id": "oXvu6rwEjfLW"
      },
      "source": [
        "w,dbh = width_finder(X_f7,Y_f7,Z_f7,l_f7)\n",
        "            \n",
        "l_list = list((np.unique(l_f7)).astype(np.uint8).reshape(-1,1))\n",
        "centr = np.empty((len(l_list),5), dtype = np.float32)\n",
        "\n",
        "i = 0\n",
        "for k,lbl in enumerate(l_list):\n",
        "    x1,y1,z1,r1,l1 = X_f7[l_f7 == lbl], Y_f7[l_f7 == lbl], Z_f7[l_f7 == lbl], R_f7[l_f7 == lbl], l_f7[l_f7 == lbl]\n",
        "\n",
        "    print(w.shape,len(l_list),l_list[i])\n",
        "    if len(z1) >1:\n",
        "        centr[i,0] = np.average(x1)\n",
        "        centr[i,1] = np.average(y1)\n",
        "        centr[i,2] = np.max(z1)\n",
        "        centr[i,3] = w[k]\n",
        "        centr[i,4] = (l_list[i]+1)\n",
        "    print(centr[i,:])\n",
        "    i += 1   \n",
        "    \n",
        "print(len(centr))\n",
        "dataset = pd.DataFrame(centr)\n",
        "dataset.to_csv('/content/drive/My Drive/Excel/lidar/test_data/grid3_height_subset_unique_pts_output_centre.csv', header=None, index=None)"
      ],
      "execution_count": null,
      "outputs": []
    },
    {
      "cell_type": "code",
      "metadata": {
        "id": "S9WBj87ck2Kc"
      },
      "source": [
        ""
      ],
      "execution_count": null,
      "outputs": []
    }
  ]
}